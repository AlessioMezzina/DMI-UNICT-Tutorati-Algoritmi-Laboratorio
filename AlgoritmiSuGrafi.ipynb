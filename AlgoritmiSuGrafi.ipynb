{
 "cells": [
  {
   "cell_type": "code",
   "execution_count": 3,
   "metadata": {},
   "outputs": [],
   "source": [
    "import networkx as nx\n",
    "import matplotlib.pyplot as plt"
   ]
  },
  {
   "cell_type": "code",
   "execution_count": 4,
   "metadata": {},
   "outputs": [],
   "source": [
    "# Funzione per disegnare il grafo\n",
    "def disegna_grafo(G):\n",
    "    pos = nx.spring_layout(G)  # Genera una disposizione dei nodi del grafo\n",
    "    nx.draw(G, pos, with_labels=True, node_color='skyblue', node_size=700, \n",
    "            edge_color='k', linewidths=1, font_size=15, \n",
    "            arrows=True, arrowsize=20)\n",
    "    labels = nx.get_edge_attributes(G, 'weight')\n",
    "    nx.draw_networkx_edge_labels(G, pos, edge_labels=labels)"
   ]
  },
  {
   "cell_type": "markdown",
   "metadata": {},
   "source": [
    "# Algoritmo di Dijkstra"
   ]
  },
  {
   "cell_type": "code",
   "execution_count": 1,
   "metadata": {},
   "outputs": [
    {
     "name": "stdout",
     "output_type": "stream",
     "text": [
      "Cammini minimi dalla sorgente: 1\n",
      "1 -> 1: [1], lunghezza = 0\n",
      "1 -> 2: [1, 2], lunghezza = 1\n",
      "1 -> 3: [1, 2, 3], lunghezza = 2\n",
      "1 -> 4: [1, 2, 4], lunghezza = 3\n",
      "1 -> 5: [1, 2, 4, 5], lunghezza = 4\n",
      "1 -> 6: [1, 2, 4, 5, 6], lunghezza = 6\n"
     ]
    }
   ],
   "source": [
    "# Creazione di un grafo diretto con pesi\n",
    "G = nx.DiGraph()\n",
    "G.add_weighted_edges_from([\n",
    "    (1, 2, 1), (1, 3, 4), (2, 3, 1), (2, 4, 2), \n",
    "    (3, 5, 3), (4, 5, 1), (4, 6, 5), (5, 6, 2)\n",
    "])\n",
    "\n",
    "# Utilizzo dell'algoritmo di Dijkstra per trovare il cammino minimo dalla sorgente\n",
    "sorgente = 1\n",
    "cammino_minimo = nx.single_source_dijkstra_path(G, sorgente)\n",
    "lunghezza_cammino = nx.single_source_dijkstra_path_length(G, sorgente)\n",
    "\n",
    "print(\"Cammini minimi dalla sorgente:\", sorgente)\n",
    "for destinazione in cammino_minimo:\n",
    "    print(f\"{sorgente} -> {destinazione}: {cammino_minimo[destinazione]}, lunghezza = {lunghezza_cammino[destinazione]}\")\n",
    "\n",
    "disegna_grafo(G)\n",
    "plt.show()"
   ]
  },
  {
   "cell_type": "markdown",
   "metadata": {},
   "source": [
    "# Algoritmo di Floyd-Warshall"
   ]
  },
  {
   "cell_type": "code",
   "execution_count": 2,
   "metadata": {},
   "outputs": [
    {
     "name": "stdout",
     "output_type": "stream",
     "text": [
      "Lunghezza dei cammini minimi tra tutte le coppie di nodi:\n",
      "1 -> 2: lunghezza = 1\n",
      "1 -> 3: lunghezza = 2\n",
      "1 -> 4: lunghezza = 2\n",
      "1 -> 5: lunghezza = 4\n",
      "1 -> 6: lunghezza = 5\n",
      "2 -> 3: lunghezza = 2\n",
      "2 -> 4: lunghezza = 2\n",
      "2 -> 5: lunghezza = 4\n",
      "2 -> 6: lunghezza = 5\n",
      "3 -> 5: lunghezza = 3\n",
      "3 -> 6: lunghezza = 5\n",
      "4 -> 5: lunghezza = 4\n",
      "4 -> 6: lunghezza = 5\n",
      "5 -> 6: lunghezza = 5\n"
     ]
    }
   ],
   "source": [
    "# Utilizzo dell'algoritmo di Floyd-Warshall per trovare tutti i cammini minimi\n",
    "lunghezza_cammini, cammini = nx.floyd_warshall_predecessor_and_distance(G)\n",
    "\n",
    "print(\"Lunghezza dei cammini minimi tra tutte le coppie di nodi:\")\n",
    "for sorgente in lunghezza_cammini:\n",
    "    for destinazione in lunghezza_cammini[sorgente]:\n",
    "        print(f\"{sorgente} -> {destinazione}: lunghezza = {lunghezza_cammini[sorgente][destinazione]}\")\n"
   ]
  }
 ],
 "metadata": {
  "kernelspec": {
   "display_name": "Python 3",
   "language": "python",
   "name": "python3"
  },
  "language_info": {
   "codemirror_mode": {
    "name": "ipython",
    "version": 3
   },
   "file_extension": ".py",
   "mimetype": "text/x-python",
   "name": "python",
   "nbconvert_exporter": "python",
   "pygments_lexer": "ipython3",
   "version": "3.11.8"
  }
 },
 "nbformat": 4,
 "nbformat_minor": 2
}
